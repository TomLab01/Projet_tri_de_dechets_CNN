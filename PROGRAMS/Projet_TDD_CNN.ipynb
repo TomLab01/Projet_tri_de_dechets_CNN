{
  "nbformat": 4,
  "nbformat_minor": 0,
  "metadata": {
    "accelerator": "GPU",
    "colab": {
      "name": "Projet_TDD_CNN.ipynb",
      "provenance": [],
      "collapsed_sections": [
        "DcaGozMJtD8g",
        "QI_f6mWMY1_C",
        "6m29A61GXp40",
        "IznC3UNdUi4W",
        "GGFFQSMdaLR1",
        "AjGU2X63-G-6"
      ]
    },
    "kernelspec": {
      "display_name": "Python 3",
      "name": "python3"
    },
    "language_info": {
      "name": "python"
    }
  },
  "cells": [
    {
      "cell_type": "markdown",
      "metadata": {
        "id": "DcaGozMJtD8g"
      },
      "source": [
        "# Projet Tri de déchets - Entraînement des CNN"
      ]
    },
    {
      "cell_type": "markdown",
      "metadata": {
        "id": "Z100TnrotSDC"
      },
      "source": [
        "### Membres de l'équipe :\n",
        "- Amine CHERIF HAOUAT\n",
        "- Tom LABIAUSSE\n",
        "- Cyrine NABI\n",
        "- Pierre OLLIVIER\n",
        "- Selim BEN TURKIA\n"
      ]
    },
    {
      "cell_type": "markdown",
      "metadata": {
        "id": "aJIrDYGptn8b"
      },
      "source": [
        "## Organisation du notebook :\n",
        "- [ 0 ] - Installation des packages Keras, Tensorflow, Pydrive, Lime si nécessaire\n",
        "- [ 1 ] - Importations des modules et fonctions indispensables et connexion à un Google Drive\n",
        "- [ 2 ] - Définition de diverses fonctionnalités basiques mais utiles pour la suite\n",
        "- [ 3 ] - Téléchargement des données depuis le Google Drive connecté\n",
        "- [ 4 ] - Pré-traitement des données téléchargées et organisation des ensembles de photos d'entrainement et de test relativement à une catégorie sélectionnée\n",
        "- [ 5.1 ] - Entrainement de VGG16 sur les données d'entrainement et évaluation sur les données test\n",
        "- [ 5.2 ] - Entrainement de ResNet50 sur les données d'entrainement et évaluation sur les données test\n",
        "- [ 5.3 ] - Entrainement de EfficientNetB3 sur les données d'entrainement et évaluation sur les données test\n",
        "- [ 6 ] - Interprétation des prédictions avec LIME"
      ]
    },
    {
      "cell_type": "markdown",
      "metadata": {
        "id": "QI_f6mWMY1_C"
      },
      "source": [
        "# 0 - Installation des packages"
      ]
    },
    {
      "cell_type": "markdown",
      "metadata": {
        "id": "d1129PZHKUlJ"
      },
      "source": [
        "Les cellules suivantes doivent être exécutées uniquement si l'utilisateur rencontre des difficultés lors de l'importation des modules en section 1.\n"
      ]
    },
    {
      "cell_type": "code",
      "metadata": {
        "id": "qjmbmDvlnDh0"
      },
      "source": [
        "# KERAS\n",
        "!pip install keras==2.4.3"
      ],
      "execution_count": null,
      "outputs": []
    },
    {
      "cell_type": "code",
      "metadata": {
        "id": "oefGV0EDT5c3"
      },
      "source": [
        "# TENSORFLOW\n",
        "!pip install tensorflow==2.4.1"
      ],
      "execution_count": null,
      "outputs": []
    },
    {
      "cell_type": "code",
      "metadata": {
        "id": "7ItyqGcAT5l1"
      },
      "source": [
        "# PYDRIVE\n",
        "!pip install PyDrive"
      ],
      "execution_count": null,
      "outputs": []
    },
    {
      "cell_type": "code",
      "metadata": {
        "id": "kna8uHcbT5r1"
      },
      "source": [
        "# LIME\n",
        "!pip install lime"
      ],
      "execution_count": null,
      "outputs": []
    },
    {
      "cell_type": "markdown",
      "metadata": {
        "id": "6m29A61GXp40"
      },
      "source": [
        "# 1 - Importations"
      ]
    },
    {
      "cell_type": "code",
      "metadata": {
        "id": "hSpujIqhEpW-"
      },
      "source": [
        "# Import des modules PyDrive et authentificaiton via Google\n",
        "from pydrive.auth import GoogleAuth\n",
        "from pydrive.drive import GoogleDrive\n",
        "from google.colab import auth\n",
        "from oauth2client.client import GoogleCredentials\n",
        "auth.authenticate_user()\n",
        "gauth = GoogleAuth()\n",
        "gauth.credentials = GoogleCredentials.get_application_default()\n",
        "drive = GoogleDrive(gauth)\n",
        "print(\"-> Authentification Google OK\")"
      ],
      "execution_count": null,
      "outputs": []
    },
    {
      "cell_type": "code",
      "metadata": {
        "id": "Ub8ssRmsWiVd"
      },
      "source": [
        "# Imports des modules classiques\n",
        "import sys\n",
        "from os import mkdir\n",
        "from datetime import datetime\n",
        "from time import time\n",
        "import tensorflow as tf\n",
        "import numpy as np\n",
        "import sqlite3\n",
        "import random\n",
        "\n",
        "import matplotlib.pyplot as plt\n",
        "import matplotlib\n",
        "\n",
        "from PIL import Image\n",
        "from PIL import ImageFile\n",
        "from PIL import ImageOps\n",
        "ImageFile.LOAD_TRUNCATED_IMAGES = True\n",
        "\n",
        "# Imports des modules d'IA\n",
        "from tensorflow import keras\n",
        "from tensorflow.keras import datasets, layers, models, losses, optimizers\n",
        "from tensorflow.keras.models import Model\n",
        "from keras.layers import Dense, Flatten, Dropout, BatchNormalization\n",
        "from keras.preprocessing.image import load_img, img_to_array\n",
        "\n",
        "# Imports pour VGG16\n",
        "from keras.applications.vgg16 import VGG16\n",
        "from keras.applications.vgg16 import preprocess_input as prepro_VGG16\n",
        "from keras.applications.vgg16 import decode_predictions\n",
        "\n",
        "# Imports pour RESNET50\n",
        "from keras.applications.resnet50 import ResNet50\n",
        "from keras.applications.resnet50 import preprocess_input as prepro_RESNET50\n",
        "\n",
        "# Imports pour EFFICIENTNETB3\n",
        "from keras.applications.vgg16 import preprocess_input as prepro_EFFICIENTNETB3 # même preprocess\n",
        "\n",
        "print(\"-> Importations OK.\")"
      ],
      "execution_count": null,
      "outputs": []
    },
    {
      "cell_type": "code",
      "metadata": {
        "id": "LNHxcNvPTGgs"
      },
      "source": [
        "# Connexion à un Google Drive\n",
        "from google.colab import drive\n",
        "drive.mount('/content/gdrive')\n",
        "print(\"-> Connexion à Google Drive OK\")"
      ],
      "execution_count": null,
      "outputs": []
    },
    {
      "cell_type": "code",
      "metadata": {
        "id": "MfePs7rQiOaK"
      },
      "source": [
        "# Chemin d'accès standard jusqu'au Google Drive connecté\n",
        "path_to_GGDrive = \"/content/gdrive/MyDrive/\""
      ],
      "execution_count": 5,
      "outputs": []
    },
    {
      "cell_type": "markdown",
      "metadata": {
        "id": "IznC3UNdUi4W"
      },
      "source": [
        "# 2 - Diverses fonctionnalités basiques"
      ]
    },
    {
      "cell_type": "code",
      "metadata": {
        "id": "mqoXnzVdLOk-"
      },
      "source": [
        "def to_percent(x,nb_dec=0):\n",
        "    \"\"\" Donne x sous la forme de pourcentage avec 'nb_dec' chiffres apres la virgule. \"\"\"\n",
        "    if nb_dec == 0:\n",
        "        return(int(100*x))\n",
        "    else:\n",
        "      return( float(int((10**(2+nb_dec))*x))/(10**nb_dec) )"
      ],
      "execution_count": 6,
      "outputs": []
    },
    {
      "cell_type": "code",
      "metadata": {
        "id": "g3ivlRtZdsEs"
      },
      "source": [
        "def extract_from_tuple(list_in):\n",
        "    list_out = []\n",
        "    for x in list_in:\n",
        "        list_out.append(x[0])\n",
        "    return(list_out)"
      ],
      "execution_count": 7,
      "outputs": []
    },
    {
      "cell_type": "markdown",
      "metadata": {
        "id": "mkIQuvdQHKSo"
      },
      "source": [
        "# 3 - Téléchargement des données"
      ]
    },
    {
      "cell_type": "markdown",
      "metadata": {
        "id": "N9_uj9bkzK9w"
      },
      "source": [
        "Le téléchargment des données doit être réalisé une seule fois à chaque nouvelle session de travail avec le notebook. \n",
        "\n",
        "Pour ce faire, il convient de préciser le chemin d'accès jusqu'au dossier contenant les batches d'images et placé dans le Google Drive connecté. Ce chemin doit être renseigné via la variable ***path_database_folder***.\n",
        "\n",
        "Il est aussi nécessaire de renseigner le chemin d'accès jusqu'au fichier SQL contenant les métadonnées via la variable ***path_metadata_file***."
      ]
    },
    {
      "cell_type": "code",
      "metadata": {
        "id": "PM47Iujuyhv1"
      },
      "source": [
        "path_database_folder = \"RESIZED_data_224x224\"\n",
        "path_metadata_file = \"RESIZED_data_224x224/metadatabase_TACO.db\""
      ],
      "execution_count": 8,
      "outputs": []
    },
    {
      "cell_type": "markdown",
      "metadata": {
        "id": "Yx4nMO-w75I2"
      },
      "source": [
        "La cellule suivante définit deux fonctions utiles pour la gestion des images"
      ]
    },
    {
      "cell_type": "code",
      "metadata": {
        "id": "2GVGzYrXrcoq"
      },
      "source": [
        "def get_file_names(metadata = path_to_GGDrive + path_metadata_file):\n",
        "    \"\"\" Renvoie une liste des (image_id,file_name) ainsi que l'image_id max de la database. \"\"\"\n",
        "    # Create the connexion\n",
        "    conn = sqlite3.connect(metadata)\n",
        "    cursor = conn.cursor()\n",
        "    cursor.execute(''' SELECT image_id,file_name FROM Images WHERE (batch_nb != 0)''',())\n",
        "    the_file_names = cursor.fetchall()\n",
        "    cursor.execute(''' SELECT image_id FROM Images ORDER BY image_id DESC LIMIT 1''',())\n",
        "    max_id = cursor.fetchone()[0]\n",
        "    # Close the connection\n",
        "    conn.close()\n",
        "    return(the_file_names,max_id)\n",
        "\n",
        "def img_name(bnb,metadata = path_to_GGDrive + path_metadata_file):\n",
        "    if True:\n",
        "        # Create the connexion\n",
        "        conn = sqlite3.connect(metadata)\n",
        "        cursor = conn.cursor()\n",
        "        # Get the informations\n",
        "        cursor.execute('''SELECT file_name FROM Images WHERE batch_nb = ?''',(bnb,))\n",
        "        tuple_nb = cursor.fetchall()\n",
        "        la_liste = extract_from_tuple(tuple_nb)\n",
        "        for k in range(0,len(la_liste)):\n",
        "            la_liste[k] = la_liste[k].split(\"/\")[1]\n",
        "        return(la_liste)\n",
        "        # Close the connection\n",
        "        conn.close()\n",
        "    else:\n",
        "        print(\"File {​​0}​​ doesn't exist.\".format(metadata)) ; return(None)"
      ],
      "execution_count": 9,
      "outputs": []
    },
    {
      "cell_type": "markdown",
      "metadata": {
        "id": "DC6O9OGK2qRk"
      },
      "source": [
        "La cellule suivante récupère les images présentes dans les batches à l'emplacement ***path_database_folder*** et les stocke dans la liste ***ORIGINAL_images***."
      ]
    },
    {
      "cell_type": "code",
      "metadata": {
        "id": "jpm8-6SVVBZW"
      },
      "source": [
        "## Recuperation des images originales\n",
        "(the_file_names,max_img_id) = get_file_names()\n",
        "ORIGINAL_images = [None for k in range(0,max_img_id+1)] # Chaque image est rangée à l'emplacement de son 'image_id'\n",
        "\n",
        "k = 0 # k est le compteur pour l'affichage\n",
        "for (image_id,file_name) in the_file_names:\n",
        "\n",
        "    # Recuperation et enregistrement de l'image\n",
        "    pil_image = Image.open(path_to_GGDrive + path_database_folder + \"/\" + file_name)\n",
        "    ORIGINAL_images[image_id] = pil_image\n",
        "\n",
        "    # Affichage de la progression\n",
        "    n = int(20*float(k+1)/len(the_file_names))\n",
        "    sys.stdout.write(\"\\rCHARGEMENT [\" + \"=\"*max(0,(n-1)) + \">\"*min(1, n) + \"-\"*(20-n) + \"] \" + \"{0}/{1}\".format(k+1, len(the_file_names)))\n",
        "    k+=1\n",
        "print(\"\\n-> {0} photos stockées (sous format PIL) dans 'ORIGINAL_images'\".format(len(the_file_names)))"
      ],
      "execution_count": null,
      "outputs": []
    },
    {
      "cell_type": "markdown",
      "metadata": {
        "id": "fm6G80wmWRyt"
      },
      "source": [
        "# 4 - Pré-traitement des données"
      ]
    },
    {
      "cell_type": "markdown",
      "metadata": {
        "id": "x0B1IdtZ8Xt5"
      },
      "source": [
        "Le pré-traitement des données doit être réalisé après avoir téléchargé les images et avant d'entrainer un CNN. Il ne modifie pas les images stockées dans ***ORIGINAL_images*** ce qui permet de ne pas avoir besoin de retélécharger les données entre deux pré-traitements."
      ]
    },
    {
      "cell_type": "markdown",
      "metadata": {
        "id": "6CdSL5M49M4O"
      },
      "source": [
        "On commence par définir les groupements de *category_id* (relatif à la base SQL des métadonnées) l'on souhaite considérer comme une catégorie unique à reconnaitre par le réseau."
      ]
    },
    {
      "cell_type": "code",
      "metadata": {
        "id": "YyLtsIOg9sk2"
      },
      "source": [
        "bottle_class_id = [4,5,6]\n",
        "can_class_id = [10,11,12]\n",
        "cup_class_id = [21,22,23,24,25]\n",
        "carton_class_id = [13,14,15,16,17,18,19]\n",
        "cigarette_class_id = [59]\n",
        "paper_class_id = [30,31,32,33,34,35]\n",
        "plastic_bag_class_id = [36,37,38,39,40,41,42]\n",
        "plastic_container_and_other_class_id = [43,44,45,46,47,48,49,29,68,69,71]\n",
        "styrofoam_class_id = [57]\n",
        "mask_class_id = [73]"
      ],
      "execution_count": 11,
      "outputs": []
    },
    {
      "cell_type": "markdown",
      "metadata": {
        "id": "fdvAvTru9vUl"
      },
      "source": [
        "On définit la fonction permettant de récupérer pour chaque image de la base de données son identifiant et son appartenance à un des groupes définis précédemment. Une photo contenant un déchet d'une catégorie sélectionnée est associée à 1 et 0 sinon."
      ]
    },
    {
      "cell_type": "code",
      "metadata": {
        "id": "auH_qiE1ECkC"
      },
      "source": [
        "def get_binary_labels(id_categories,batch_nbs,database = \"/content/gdrive/MyDrive/RESIZED_data_224x224/metadatabase_TACO.db\"):\n",
        "    \"\"\" Renvoie une liste de tuple du type (image_id appartenant a 'batch_nbs', 1 s'il existe un dechet du type 'id_categories' sur l'image et 0 sinon). \"\"\"\n",
        "    conn = sqlite3.connect(database) # Create the connexion\n",
        "    cursor = conn.cursor()\n",
        "    les_cat = \"(\" + str(id_categories)[1:-1] + \")\"\n",
        "    les_bnb = \"(\" + str(batch_nbs)[1:-1] + \")\"\n",
        "    request = ''' SELECT image_id, MAX(test_binaire) AS x\n",
        "                  FROM(\n",
        "                  SELECT DISTINCT I.image_id, (C.category_id IN {0}) AS test_binaire\n",
        "                  FROM( (Litter AS L JOIN Images AS I ON I.image_id = L.image_id)\n",
        "                  JOIN Categories AS C ON C.category_id = L.category_id)\n",
        "                  WHERE (I.batch_nb IN {1})\n",
        "                  )\n",
        "                  GROUP BY image_id'''.format(les_cat,les_bnb)\n",
        "    cursor.execute(request,())\n",
        "    liste = cursor.fetchall()\n",
        "    conn.close() # Close the connection\n",
        "    return(liste)"
      ],
      "execution_count": 12,
      "outputs": []
    },
    {
      "cell_type": "markdown",
      "metadata": {
        "id": "df1nf2da-VRw"
      },
      "source": [
        "Différentes précisions sur les photos à pré-traiter avant entrainement"
      ]
    },
    {
      "cell_type": "code",
      "metadata": {
        "id": "OaP3NE2O-S_d"
      },
      "source": [
        "## Fonction de preprocess utilisée en fonction du modele (Trois possibilités : prepro_VGG16 / prepro_RESNET50 / prepro_EFFICIENTNETB3)\n",
        "prepro_function = prepro_VGG16\n",
        "\n",
        "## Choix du type de dechets a reconnaitre\n",
        "categories_a_trier = mask_class_id\n",
        "\n",
        "### Choix des batchs de la base de données a considerer\n",
        "liste_batchs = [k for k in range(1,16)]\n",
        "\n",
        "## Equilibrage du nombre d'images contenant un déchet d'intérêt et celles n'en contenant pas si et seuelement si labels_50_50==True\n",
        "labels_50_50 = 1\n",
        "\n",
        "## Recuperation des couples (image_id, 0 ou 1) correspondants au paramétrage précédent\n",
        "liste_couples = get_binary_labels(categories_a_trier,liste_batchs)"
      ],
      "execution_count": 13,
      "outputs": []
    },
    {
      "cell_type": "markdown",
      "metadata": {
        "id": "h8Ys16Eo_3og"
      },
      "source": [
        "La cellule suivante permet de construire, à partir de ***ORIGINAL_images*** et du paramétrage précédent, l'ensemble des images ***X_data*** ainsi que les labels binaires stockés dans ***Y_data*** qui vont être utilisés lors de l'entrainement. Afin d'augmenter artificiellement le nombre d'images disponibles, on effectue une transformation miroir horizontale sur chaque image contenant un déchet d'intérêt. On double ainsi la quantité disponible de ces dernières."
      ]
    },
    {
      "cell_type": "code",
      "metadata": {
        "id": "Yoc6vhQUZiz5"
      },
      "source": [
        "les_labels = [] ; les_images_0 = [] ; les_images_1 = [] ; k = 0 # k est le compteur pour l'affichage\n",
        "for (image_id,is_category) in liste_couples:\n",
        "    # Recuperation d'une image et enregistrement\n",
        "    pil_image = ORIGINAL_images[image_id]\n",
        "    np_image = np.array(pil_image)\n",
        "    # np_image = np_image.reshape((1, np_image.shape[0], np_image.shape[1], np_image.shape[2]))\n",
        "    np_image = prepro_function(np_image)  # Prétraiter l'image comme le veut VGG-16\n",
        "    if is_category:\n",
        "        # Ajout standard\n",
        "        les_images_1.append(np_image)\n",
        "        # Ajout miroir\n",
        "        pil_image_reverse = ImageOps.mirror(pil_image)\n",
        "        np_image_rev = np.array(pil_image_reverse)\n",
        "        # np_image_rev = np_image_rev.reshape((1, np_image_rev.shape[0], np_image_rev.shape[1], np_image_rev.shape[2]))\n",
        "        np_image_rev = prepro_function(np_image_rev)  # Prétraiter l'image comme le veut VGG-16\n",
        "        les_images_1.append(np_image_rev)\n",
        "    else:\n",
        "        # Ajout standard\n",
        "        les_images_0.append(np_image)\n",
        "    # Affichage de la progression\n",
        "    n = int(20*float(k+1)/len(liste_couples))\n",
        "    sys.stdout.write(\"\\rCHARGEMENT [\" + \"=\"*max(0,(n-1)) + \">\"*min(1, n) + \"-\"*(20-n) + \"] \" + \"{0}/{1}\".format(k+1, len(liste_couples)))\n",
        "    k+=1\n",
        "\n",
        "if labels_50_50:\n",
        "    nb_img_0_to_add = min(len(les_images_0),len(les_images_1))\n",
        "    les_images = les_images_1 + les_images_0[:nb_img_0_to_add]\n",
        "    les_labels = [np.array([1]) for k in range(len(les_images_1))] + [np.array([0]) for k in range(nb_img_0_to_add)]\n",
        "else:\n",
        "    les_images = les_images_1 + les_images_0\n",
        "    les_labels = [np.array([1]) for k in range(len(les_images_1))] + [np.array([0]) for k in range(len(les_images_0))]\n",
        "\n",
        "## Melange des donnees obtenues (les_images ->[SHUFFLE]-> X_data) et (les_labels ->[SHUFFLE]-> Y_data)\n",
        "TOT_nb_photos = len(les_labels)\n",
        "index_shuffle = [k for k in range(TOT_nb_photos)]\n",
        "random.shuffle(index_shuffle)\n",
        "\n",
        "X_data = [les_images[index_shuffle[i]] for i in range(TOT_nb_photos)]\n",
        "Y_data = [les_labels[index_shuffle[i]] for i in range(TOT_nb_photos)]\n",
        "X_data = np.array(X_data)\n",
        "Y_data = np.array(Y_data)\n",
        "\n",
        "print(\"\\n-> {0} photos stockées (sous forme np.array) dans 'X_data'\".format(TOT_nb_photos))"
      ],
      "execution_count": null,
      "outputs": []
    },
    {
      "cell_type": "markdown",
      "metadata": {
        "id": "sbC4V-xqBDzl"
      },
      "source": [
        "La cellule suivante sépare les données de ***(X_data,Y_data)*** en deux ensembles, l'un dédié à l'entrainement ***(X_train,Y_train)*** et l'autre aux tests ***(X_test,Y_test)***. Le rapport de taille de ces deux ensemble est contrôlé par le paramètre ***train_proportion*** qu'on fixe à 80% (valeur usuelle)."
      ]
    },
    {
      "cell_type": "code",
      "metadata": {
        "id": "EfZnZ1QcI1Ge"
      },
      "source": [
        "## Repartion des donnees de test et d'entrainement\n",
        "train_proportion = 0.80\n",
        "\n",
        "train_size = int(train_proportion*TOT_nb_photos)\n",
        "X_train = X_data[:train_size].copy()\n",
        "X_test = X_data[train_size:].copy()\n",
        "Y_train = Y_data[:train_size].copy()\n",
        "Y_test = Y_data[train_size:].copy()\n",
        "\n",
        "positive_train = np.sum(Y_train) ; positive_test = np.sum(Y_test)\n",
        "tot_train = len(Y_train) ; tot_test = len(Y_test)\n",
        "if tot_train + tot_test != TOT_nb_photos:\n",
        "    print(\"!!! PROBLEME : \",tot_train,tot_test,TOT_nb_photos)\n",
        "print(\"Identifiants des classes de déchets souhaités : \" ,categories_a_trier)\n",
        "print(\"Proportion de photos contenant un dechet souhaité :\")\n",
        "print(\" - Dans les donnees d'entrainement : \" + str(positive_train) + \"/\" + str(tot_train) + \" = \" + str(to_percent(float(positive_train)/tot_train))+\"%\")\n",
        "print(\" - Dans les donnees de test : \" + str(positive_test) + \"/\" + str(tot_test) + \" = \" + str(to_percent(float(positive_test)/tot_test))+\"%\")\n",
        "print(\" - Au total : \" + str(positive_train+positive_test) + \"/\" + str(TOT_nb_photos) + \" = \" + str(to_percent(float(positive_train+positive_test)/TOT_nb_photos))+\"%\")\n"
      ],
      "execution_count": null,
      "outputs": []
    },
    {
      "cell_type": "markdown",
      "metadata": {
        "id": "ldnl6XWKB0J_"
      },
      "source": [
        "Une fois toutes les cellules précédentes exécutées, les données rassemblées dans les ensembles d'entrainement et de test peuvent enfin être utilisées pour l'entrainement des réseaux de neurones en section 5.1, 5.2 ou 5.3."
      ]
    },
    {
      "cell_type": "markdown",
      "metadata": {
        "id": "O9-gNpsVGgn2"
      },
      "source": [
        "# 5.1 - VGG16"
      ]
    },
    {
      "cell_type": "markdown",
      "metadata": {
        "id": "RpwYL082a6j-"
      },
      "source": [
        "![VGG16_architecture_redim.png](data:image/png;base64,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)"
      ]
    },
    {
      "cell_type": "markdown",
      "metadata": {
        "id": "f9T9FZ7dCDQ4"
      },
      "source": [
        "Chargement de VGG-16 pré-entraîné sur ImageNet et sans les couches hautes de classification (propres aux 1000 catégories d'ImageNet)"
      ]
    },
    {
      "cell_type": "code",
      "metadata": {
        "id": "mE_AvNDbPJAh"
      },
      "source": [
        "from keras.applications.vgg16 import VGG16\n",
        "VGG16 = VGG16(weights=\"imagenet\", include_top=False, input_shape=(224, 224, 3))\n",
        "# VGG16.summary() # 19 couches sous cette forme (en comptant celles sans paramètres)"
      ],
      "execution_count": null,
      "outputs": []
    },
    {
      "cell_type": "markdown",
      "metadata": {
        "id": "Kcha25hMCW5p"
      },
      "source": [
        "Il est possible d'entrainer au choix la totalité du réseau VGG16 ou seulement les couches hautes de classification. La seconde possibilité permet d'utiliser les poids des couches basses issus de l'entrainement sur ImageNet.\n",
        "\n",
        "Il faut alors éxecuter une des deux cellules uniquement"
      ]
    },
    {
      "cell_type": "code",
      "metadata": {
        "id": "8AQpHhm1HEWb"
      },
      "source": [
        "### Entrainement du classifieur SEULEMENT ###\n",
        "\n",
        "for layer in VGG16.layers[:19]:\n",
        "    layer.trainable = False\n",
        "# Récupérer la sortie de ce réseau\n",
        "couche = VGG16.output\n",
        "predictions = Flatten()(couche)\n",
        "predictions = Dropout(0.05)(predictions)\n",
        "predictions = Dense(1, activation = 'sigmoid')(predictions)\n",
        "# Définir le nouveau modèle\n",
        "VGG16_TL = Model(inputs=VGG16.input, outputs=predictions)\n",
        "top_train = True ; full_train = False"
      ],
      "execution_count": 17,
      "outputs": []
    },
    {
      "cell_type": "code",
      "metadata": {
        "id": "f4mMdSTVKQk9"
      },
      "source": [
        "### Entrainement COMPLET de VGG16 ###\n",
        "\n",
        "# Récupérer la sortie de ce réseau\n",
        "couche = VGG16.output\n",
        "predictions = Flatten()(couche)\n",
        "predictions = Dropout(0.05)(predictions)\n",
        "predictions = Dense(1, activation = 'sigmoid')(predictions)\n",
        "# Définir le nouveau modèle\n",
        "VGG16_TL = Model(inputs=VGG16.input, outputs=predictions)\n",
        "top_train = False ; full_train = True"
      ],
      "execution_count": null,
      "outputs": []
    },
    {
      "cell_type": "markdown",
      "metadata": {
        "id": "_oOVKcLBC8sZ"
      },
      "source": [
        "Compilation du modèle"
      ]
    },
    {
      "cell_type": "code",
      "metadata": {
        "id": "NMr68H4GgLk9"
      },
      "source": [
        "# Compiler le modèle \n",
        "VGG16_TL.compile(loss=\"binary_crossentropy\", optimizer=tf.keras.optimizers.SGD(learning_rate=0.000025, momentum=0.9), metrics=[\"accuracy\"])\n",
        "VGG16_TL.summary()"
      ],
      "execution_count": null,
      "outputs": []
    },
    {
      "cell_type": "markdown",
      "metadata": {
        "id": "E2iawvQRDEdd"
      },
      "source": [
        "La cellule suivante lance l'entrainement du réseau sur les données préparées dans la section de pré-traitement. Le paramètre ***epochs*** permet de spécifier à l'algorithme le nombre de fois où il doit \"voir\" chaque image de ***X_train*** pendant son entrainement."
      ]
    },
    {
      "cell_type": "code",
      "metadata": {
        "id": "UlvBBTWlgLlC"
      },
      "source": [
        "history = VGG16_TL.fit(X_train, Y_train, epochs=12, validation_data=(X_test, Y_test))"
      ],
      "execution_count": null,
      "outputs": []
    },
    {
      "cell_type": "markdown",
      "metadata": {
        "id": "jb1E8aUFFK0_"
      },
      "source": [
        "La cellule suivante permet de visualiser sur des graphiques la progression de l'*Accuracy* et de la *Loss* au fil de l'entrainement. \n",
        "\n",
        "Le paramètre ***litter_name*** est une appelation du type de déchets que le réseau s'est entrainé à reconnaitre et apparait sur les graphiques. \n",
        "\n",
        "Le paramètre ***save_graphs*** permet s'il est *True* de sauvegarder automatiquement les graphiques dans un dossier sur le *Google Drive* connecté."
      ]
    },
    {
      "cell_type": "code",
      "metadata": {
        "id": "jG5zQmR5GnNm"
      },
      "source": [
        "litter_name = \"mask\"\n",
        "save_graphs = False\n",
        "\n",
        "if save_graphs:\n",
        "    new_folder = path_to_GGDrive + str(datetime.now()).split(\".\")[0] + \"/\"\n",
        "    mkdir(new_folder)\n",
        "\n",
        "## History for ACCURACY\n",
        "plt.plot(history.history['accuracy']) ; plt.plot(history.history['val_accuracy'])\n",
        "plt.legend(['train', 'test'], loc='upper left')\n",
        "plt.title('VGG16 TL for ' + litter_name + ' - Accuracy')\n",
        "plt.ylabel('accuracy') ; plt.xlabel('epoch')\n",
        "if save_graphs:\n",
        "    plt.savefig(new_folder + \"vgg16_\" + litter_name.upper() + \"_ACC\", format=\"png\")\n",
        "plt.show()\n",
        "## History for LOSS\n",
        "plt.plot(history.history['loss']) ; plt.plot(history.history['val_loss'])\n",
        "plt.legend(['train', 'test'], loc='upper left')\n",
        "plt.title('VGG16 TL for ' + litter_name + ' - Loss')\n",
        "plt.ylabel('loss') ; plt.xlabel('epoch')\n",
        "if save_graphs:\n",
        "    plt.savefig(new_folder + \"vgg16_\" + litter_name.upper() + \"_LOSS\", format=\"png\")\n",
        "plt.show()\n",
        "\n",
        "if save_graphs:\n",
        "    print(\"Graphiques ACC et LOSS sauvegardés dans '{0}'\".format(new_folder))"
      ],
      "execution_count": null,
      "outputs": []
    },
    {
      "cell_type": "markdown",
      "metadata": {
        "id": "0Sdz6SW5Ghe3"
      },
      "source": [
        "La cellule suivante permet de sauvegarder le modèle entrainer dans un fichier *.h5* dans le même dossier que les graphiques précédents.\n",
        "\n",
        "Le nom du fichier indique :\n",
        "- le type d'entrainement réalisé (*Full Learning* ou *Transfer Learning*\n",
        "- le type de réseau utilisé (VGG16 ici)\n",
        "- le type de données utilisées (équilibrées en 50%-50% par rapport à la catégorie ou avec la totalité de la base de données)"
      ]
    },
    {
      "cell_type": "code",
      "metadata": {
        "id": "kZbKM40D1uFz"
      },
      "source": [
        "model_name = \"\"\n",
        "if top_train:\n",
        "    model_name += \"TL_\"\n",
        "elif full_train:\n",
        "    model_name += \"FL_\"\n",
        "model_name += litter_name.upper() + \"_vgg16_\"\n",
        "if labels_50_50:\n",
        "    model_name += \"5050img.h5\"\n",
        "else:\n",
        "    model_name += \"fullimg.h5\"\n",
        "\n",
        "print(\"Type de déchet : \" + litter_name.upper()) ; print(\"\")\n",
        "VGG16_TL.save(new_folder + model_name)\n",
        "print(\"Modele '{0}' sauvegardé dans '{1}'.\".format(model_name,new_folder))"
      ],
      "execution_count": null,
      "outputs": []
    },
    {
      "cell_type": "markdown",
      "metadata": {
        "id": "NtE2wJ8qGQtC"
      },
      "source": [
        "La cellule suivante permet de tester le réseau entrainé précédemment en réalisant une prédiction sur une image stockée dans *Google Drive* dont le nom doit être indiquée dans ***nom_image***."
      ]
    },
    {
      "cell_type": "code",
      "metadata": {
        "id": "8_G3cHiFdlIE"
      },
      "source": [
        "nom_image = \"\"\n",
        "\n",
        "img = load_img(path_to_GGDrive + nom_image, target_size=(224, 224))  # Charger l'image\n",
        "img = img_to_array(img)  # Convertir en tableau numpy de shape (224,224,3)\n",
        "img = img.reshape((1, img.shape[0], img.shape[1], img.shape[2]))  # Créer la collection d'images (un seul échantillon)\n",
        "img = prepro_function(img)  # Prétraiter l'image comme le veut VGG-16\n",
        "pred = VGG16_TL.predict(img)[0]\n",
        "print(fichier, pred)"
      ],
      "execution_count": null,
      "outputs": []
    },
    {
      "cell_type": "markdown",
      "metadata": {
        "id": "GGFFQSMdaLR1"
      },
      "source": [
        "# 5.2 - Resnet50"
      ]
    },
    {
      "cell_type": "markdown",
      "metadata": {
        "id": "l1pez6Q9H7bR"
      },
      "source": [
        "L'organisation du code de cette section est similaire à celui de la section 5.1"
      ]
    },
    {
      "cell_type": "code",
      "metadata": {
        "id": "xMAbA9YCaLSN"
      },
      "source": [
        "## Charger ResNet-50 pré-entraîné et sans les couches fully-connected\n",
        "from keras.applications.resnet50 import ResNet50\n",
        "RESNET50 = ResNet50(weights=\"imagenet\", include_top=False, input_shape=(224, 224, 3))\n",
        "RESNET50.summary() # 19 couches sous cette forme (en comptant celles sans paramètres)"
      ],
      "execution_count": null,
      "outputs": []
    },
    {
      "cell_type": "code",
      "metadata": {
        "id": "X44v60QmaLSO"
      },
      "source": [
        "### Entrainement du classifieur SEULEMENT\n",
        "for layer in RESNET50.layers: #[:19]:\n",
        "    layer.trainable = False\n",
        "\n",
        "# Récupérer la sortie de ce réseau\n",
        "couche = RESNET50.output\n",
        "predictions = Flatten()(couche)\n",
        "predictions = Dropout(0.05)(predictions)\n",
        "predictions = Dense(1, activation = 'sigmoid')(predictions)\n",
        "# Définir le nouveau modèle\n",
        "RESNET50_TL = Model(inputs=RESNET50.input, outputs=predictions)\n",
        "top_train = True ; full_train = False"
      ],
      "execution_count": null,
      "outputs": []
    },
    {
      "cell_type": "code",
      "metadata": {
        "id": "rXGu8V6KaLSP"
      },
      "source": [
        "### Entrainement COMPLET de RESNET50\n",
        "\n",
        "# Récupérer la sortie de ce réseau\n",
        "couche = RESNET50.output\n",
        "predictions = Flatten()(couche)\n",
        "predictions = Dropout(0.05)(predictions)\n",
        "predictions = Dense(1, activation = 'sigmoid')(predictions)\n",
        "# Définir le nouveau modèle\n",
        "RESNET50_TL = Model(inputs=RESNET50.input, outputs=predictions)\n",
        "top_train = False ; full_train = True"
      ],
      "execution_count": null,
      "outputs": []
    },
    {
      "cell_type": "code",
      "metadata": {
        "id": "qqbtXtnFaLSP"
      },
      "source": [
        "# Compiler le modèle \n",
        "RESNET50_TL.compile(loss=\"binary_crossentropy\", optimizer=tf.keras.optimizers.SGD(lr=0.0001, momentum=0.9), metrics=[\"accuracy\"])\n",
        "RESNET50_TL.summary()"
      ],
      "execution_count": null,
      "outputs": []
    },
    {
      "cell_type": "code",
      "metadata": {
        "id": "_vk-9WmJaLSR"
      },
      "source": [
        "history = RESNET50_TL.fit(X_train, Y_train, epochs=12, validation_data=(X_test, Y_test))"
      ],
      "execution_count": null,
      "outputs": []
    },
    {
      "cell_type": "code",
      "metadata": {
        "id": "2CCBT_06aLSR"
      },
      "source": [
        "litter_name = \"bottle\"\n",
        "save_graphs = True\n",
        "\n",
        "if save_graphs:\n",
        "    new_folder = path_to_GGDrive + str(datetime.now()).split(\".\")[0] + \"/\"\n",
        "    mkdir(new_folder)\n",
        "\n",
        "## History for ACCURACY\n",
        "plt.plot(history.history['accuracy']) ; plt.plot(history.history['val_accuracy'])\n",
        "plt.legend(['train', 'test'], loc='upper left')\n",
        "plt.title('RESNET50 TL for ' + litter_name + ' - Accuracy')\n",
        "plt.ylabel('accuracy') ; plt.xlabel('epoch')\n",
        "if save_graphs:\n",
        "    plt.savefig(new_folder + \"resnet50_\" + litter_name.upper() + \"_ACC\", format=\"png\")\n",
        "plt.show()\n",
        "## History for LOSS\n",
        "plt.plot(history.history['loss']) ; plt.plot(history.history['val_loss'])\n",
        "plt.legend(['train', 'test'], loc='upper left')\n",
        "plt.title('RESNET50 TL for ' + litter_name + ' - Loss')\n",
        "plt.ylabel('loss') ; plt.xlabel('epoch')\n",
        "if save_graphs:\n",
        "    plt.savefig(new_folder + \"resnet50_\" + litter_name.upper() + \"_LOSS\", format=\"png\")\n",
        "plt.show()\n",
        "\n",
        "if save_graphs:\n",
        "    print(\"Graphiques ACC et LOSS sauvegardés dans '{0}'\".format(new_folder))"
      ],
      "execution_count": null,
      "outputs": []
    },
    {
      "cell_type": "code",
      "metadata": {
        "id": "QXbKrD7raLST"
      },
      "source": [
        "model_name = \"\"\n",
        "if top_train:\n",
        "    model_name += \"TL_\"\n",
        "else:\n",
        "    model_name += \"FL_\"\n",
        "model_name += litter_name.upper() + \"_resnet50_\"\n",
        "if labels_50_50:\n",
        "    model_name += \"5050img.h5\"\n",
        "else:\n",
        "    model_name += \"fullimg.h5\"\n",
        "\n",
        "print(\"Type de déchet : \" + litter_name.upper()) ; print(\"\")\n",
        "RESNET50_TL.save(new_folder + model_name)\n",
        "print(\"Modele '{0}' sauvegardé dans '{1}'.\".format(model_name,new_folder))"
      ],
      "execution_count": null,
      "outputs": []
    },
    {
      "cell_type": "code",
      "metadata": {
        "id": "YdgE0QMCaLSS"
      },
      "source": [
        "nom_image = \"\"\n",
        "\n",
        "img = load_img(path_to_GGDrive + nom_image, target_size=(224, 224))  # Charger l'image\n",
        "img = img_to_array(img)  # Convertir en tableau numpy de shape (224,224,3)\n",
        "img = img.reshape((1, img.shape[0], img.shape[1], img.shape[2]))  # Créer la collection d'images (un seul échantillon)\n",
        "img = prepro_RESNET50(img)  # Prétraiter l'image comme le veut VGG-16\n",
        "pred = RESNET50_TL.predict(img)[0]\n",
        "print(fichier, pred)"
      ],
      "execution_count": null,
      "outputs": []
    },
    {
      "cell_type": "markdown",
      "metadata": {
        "id": "1G9ZSJytcP6V"
      },
      "source": [
        "# 5.3 EfficientNetB3"
      ]
    },
    {
      "cell_type": "markdown",
      "metadata": {
        "id": "wD_ZCXHNH1BJ"
      },
      "source": [
        "L'organisation du code de cette section est similaire à celui de la section 5.1"
      ]
    },
    {
      "cell_type": "code",
      "metadata": {
        "id": "SBNRQU1GcP62"
      },
      "source": [
        "## Charger EfficientNetB3 pré-entraîné et sans les couches fully-connected\n",
        "from keras.applications.EfficientNetB3 import EfficientNetB3\n",
        "EFFICIENTNETB3 = keras.applications.EfficientNetB3(weights=\"imagenet\", include_top=False, input_shape=(224, 224, 3))\n",
        "# EFFICIENTNETB3.summary()\n"
      ],
      "execution_count": null,
      "outputs": []
    },
    {
      "cell_type": "code",
      "metadata": {
        "id": "7qhEmUvMcP63"
      },
      "source": [
        "### Entrainement du classifieur SEULEMENT\n",
        "for layer in EFFICIENTNETB3.layers: #[:19]:\n",
        "    layer.trainable = False\n",
        "\n",
        "# Récupérer la sortie de ce réseau\n",
        "couche = EFFICIENTNETB3.output\n",
        "predictions = Flatten()(couche)\n",
        "predictions = Dropout(0.05)(predictions)\n",
        "predictions = Dense(1, activation = 'sigmoid')(predictions)\n",
        "# Définir le nouveau modèle\n",
        "EFFICIENTNETB3_TL = Model(inputs=EFFICIENTNETB3.input, outputs=predictions)\n",
        "top_train = True ; full_train = False"
      ],
      "execution_count": null,
      "outputs": []
    },
    {
      "cell_type": "code",
      "metadata": {
        "id": "HX9fc8kIcP63"
      },
      "source": [
        "### Entrainement COMPLET de EFFICIENTNETB3\n",
        "\n",
        "# Récupérer la sortie de ce réseau\n",
        "couche = EFFICIENTNETB3.output\n",
        "predictions = Flatten()(couche)\n",
        "predictions = Dropout(0.05)(predictions)\n",
        "predictions = Dense(1, activation = 'sigmoid')(predictions)\n",
        "# Définir le nouveau modèle\n",
        "EFFICIENTNETB3_TL = Model(inputs=EFFICIENTNETB3.input, outputs=predictions)\n",
        "top_train = False ; full_train = True"
      ],
      "execution_count": null,
      "outputs": []
    },
    {
      "cell_type": "code",
      "metadata": {
        "id": "ltjpkN-NcP64"
      },
      "source": [
        "# Compiler le modèle \n",
        "EFFICIENTNETB3_TL.compile(loss=\"binary_crossentropy\", optimizer=tf.keras.optimizers.SGD(lr=0.0001, momentum=0.9), metrics=[\"accuracy\"])\n",
        "EFFICIENTNETB3_TL.summary()"
      ],
      "execution_count": null,
      "outputs": []
    },
    {
      "cell_type": "code",
      "metadata": {
        "id": "AMWCc5O6cP65"
      },
      "source": [
        "history = EFFICIENTNETB3_TL.fit(X_train, Y_train, epochs=22, validation_data=(X_test, Y_test))"
      ],
      "execution_count": null,
      "outputs": []
    },
    {
      "cell_type": "code",
      "metadata": {
        "id": "_s6NClircP65"
      },
      "source": [
        "litter_name = \"bottle\"\n",
        "save_graphs = True\n",
        "\n",
        "if save_graphs:\n",
        "    new_folder = path_to_GGDrive + str(datetime.now()).split(\".\")[0] + \"/\"\n",
        "    mkdir(new_folder)\n",
        "\n",
        "## History for ACCURACY\n",
        "plt.plot(history.history['accuracy']) ; plt.plot(history.history['val_accuracy'])\n",
        "plt.legend(['train', 'test'], loc='upper left')\n",
        "plt.title('EFFICIENTNETB3 TL for ' + litter_name + ' - Accuracy')\n",
        "plt.ylabel('accuracy') ; plt.xlabel('epoch')\n",
        "if save_graphs:\n",
        "    plt.savefig(new_folder + \"efficientnetb3_\" + litter_name.upper() + \"_ACC\", format=\"png\")\n",
        "plt.show()\n",
        "## History for LOSS\n",
        "plt.plot(history.history['loss']) ; plt.plot(history.history['val_loss'])\n",
        "plt.legend(['train', 'test'], loc='upper left')\n",
        "plt.title('EFFICIENTNETB3 TL for ' + litter_name + ' - Loss')\n",
        "plt.ylabel('loss') ; plt.xlabel('epoch')\n",
        "if save_graphs:\n",
        "    plt.savefig(new_folder + \"efficientnetb3_\" + litter_name.upper() + \"_LOSS\", format=\"png\")\n",
        "plt.show()\n",
        "\n",
        "if save_graphs:\n",
        "    print(\"Graphiques ACC et LOSS sauvegardés dans '{0}'\".format(new_folder))"
      ],
      "execution_count": null,
      "outputs": []
    },
    {
      "cell_type": "code",
      "metadata": {
        "id": "Zkon3_UkcP67"
      },
      "source": [
        "model_name = \"\"\n",
        "if top_train:\n",
        "    model_name += \"TL_\"\n",
        "else:\n",
        "    model_name += \"FL_\"\n",
        "model_name += litter_name.upper() + \"_efficientnetb3_\"\n",
        "if labels_50_50:\n",
        "    model_name += \"5050img.h5\"\n",
        "else:\n",
        "    model_name += \"fullimg.h5\"\n",
        "\n",
        "print(\"Type de déchet : \" + litter_name.upper()) ; print(\"\")\n",
        "EFFICIENTNETB3_TL.save(new_folder + model_name)\n",
        "print(\"Modele '{0}' sauvegardé dans '{1}'.\".format(model_name,new_folder))"
      ],
      "execution_count": null,
      "outputs": []
    },
    {
      "cell_type": "code",
      "metadata": {
        "id": "XIo_gblrcP66"
      },
      "source": [
        "nom_image = \"\"\n",
        "\n",
        "img = load_img(path_to_GGDrive + nom_image, target_size=(224, 224))  # Charger l'image\n",
        "img = img_to_array(img)  # Convertir en tableau numpy de shape (224,224,3)\n",
        "img = img.reshape((1, img.shape[0], img.shape[1], img.shape[2]))  # Créer la collection d'images (un seul échantillon)\n",
        "img = prepro_EFFICIENTNETB3(img)  # Prétraiter l'image comme le veut VGG-16\n",
        "pred = EFFICIENTNETB3_TL.predict(img)[0]\n",
        "print(fichier, pred)"
      ],
      "execution_count": null,
      "outputs": []
    },
    {
      "cell_type": "markdown",
      "metadata": {
        "id": "AjGU2X63-G-6"
      },
      "source": [
        "# 6 - Interprétation des prédictions avec LIME\n"
      ]
    },
    {
      "cell_type": "markdown",
      "metadata": {
        "id": "diks6aFIVC_K"
      },
      "source": [
        "Chargement du modèle VGG16 à tester.\n",
        "\n",
        "Il est aussi possible de tester d'autres modèles à condition de changer la fonction de preprocess dans *predict_fn*."
      ]
    },
    {
      "cell_type": "code",
      "metadata": {
        "id": "0247kWK7APb6"
      },
      "source": [
        "model_name = 'SAVED_MODELS/25_05_2021/full_TL_PLASTIC_CONTAINER_AND_OTHER_vgg16_5050img.h5'\n",
        "litter_cat = \"PLASTIC_CONTAINER_AND_OTHER\"\n",
        "VGG16_model = tf.keras.models.load_model(path_to_GGDrive + model_name)\n",
        "print(\"Modèle '\" + model_name + \"' chargé.\")"
      ],
      "execution_count": null,
      "outputs": []
    },
    {
      "cell_type": "code",
      "metadata": {
        "id": "H-xOAtgB-aIi"
      },
      "source": [
        "# LIME imports\n",
        "from skimage.segmentation import mark_boundaries\n",
        "from lime import lime_image\n",
        "LIME_explainer = lime_image.LimeImageExplainer()\n",
        "\n",
        "# Fonctions utiles\n",
        "def predict_fn(x):\n",
        "    return(VGG16_model.predict(prepro_VGG16(x)))\n",
        "\n",
        "def add_mask(np_img, mask, np_color = np.array([255, 242, 0])):\n",
        "    l,c = mask.shape\n",
        "    for y in range(0,l):\n",
        "        for x in range(0,c):\n",
        "            if (mask[y][x] != 0):\n",
        "                np_img[y][x] = np_color\n",
        "    return(np_img)"
      ],
      "execution_count": null,
      "outputs": []
    },
    {
      "cell_type": "markdown",
      "metadata": {
        "id": "RULYaJZSU2T-"
      },
      "source": [
        "Réaliser une prédiction"
      ]
    },
    {
      "cell_type": "code",
      "metadata": {
        "id": "2pnIMKFk-WYZ"
      },
      "source": [
        "img_test_name = \"mask_6.jpg\"\n",
        "\n",
        "img = load_img(path_to_GGDrive + \"WEB_data/\" + img_test_name, target_size=(224, 224))  # Charger l'image\n",
        "original_np_img = np.array(img)\n",
        "img = img_to_array(img)  # Convertir en tableau numpy de shape (224,224,3)\n",
        "prepro_img = img.reshape((1, img.shape[0], img.shape[1], img.shape[2]))  # Créer la collection d'images (un seul échantillon)\n",
        "prepro_img = prepro_VGG16(prepro_img)  # Prétraiter l'image comme le veut VGG-16\n",
        "img_pred = VGG16_model.predict(prepro_img)[0][0] # float qui donne la proba d'être classé positif\n",
        "\n",
        "# Prediction\n",
        "plt.imshow(original_np_img) ; plt.xlabel(img_test_name)\n",
        "plt.title(\"{0} : {1}\".format(litter_cat,img_pred)) ; plt.show()"
      ],
      "execution_count": null,
      "outputs": []
    },
    {
      "cell_type": "markdown",
      "metadata": {
        "id": "PFW-H3z4UvNC"
      },
      "source": [
        "Analyser les raisons de la prédiction"
      ]
    },
    {
      "cell_type": "code",
      "metadata": {
        "id": "nX83tgVV-784"
      },
      "source": [
        "start_t = time()\n",
        "# Hide color is the color for a superpixel turned OFF. Alternatively, if it is NONE, the superpixel will be replaced by the average of its pixels\n",
        "img_explanation = LIME_explainer.explain_instance(img, predict_fn)#, top_labels=1, hide_color=0, num_samples=1000)\n",
        "print(\"Analyse de la prédiction terminée.\")\n",
        "print(\"Execution time : \" + str(to_percent(time()-start_t,nb_dec=2)/100) + \"s\")"
      ],
      "execution_count": null,
      "outputs": []
    },
    {
      "cell_type": "markdown",
      "metadata": {
        "id": "gXrG-jy-Un_7"
      },
      "source": [
        "Afficher les pixels de décision"
      ]
    },
    {
      "cell_type": "code",
      "metadata": {
        "id": "820BQpkZDymQ"
      },
      "source": [
        "temp, mask = img_explanation.get_image_and_mask(0, positive_only=True, num_features=26, hide_rest=False) # 'num_features' = une certaine quantité de pixels jaune à afficher\n",
        "img_with_mask = add_mask(original_np_img.copy(),mask)\n",
        "print(\"[Les parties jaunes de l'image sont les principales responsables de la prise de décision du réseau]\") ; print(\"\")\n",
        "\n",
        "## MASK sur image originale\n",
        "plt.imshow(img_with_mask)\n",
        "## MASK sur image pré-traité\n",
        "# plt.imshow(mark_boundaries(temp / 2 + 0.5, mask))\n",
        "\n",
        "plt.xlabel(img_test_name) ; plt.title(\"{0} : {1}\".format(litter_cat,img_pred)) ; plt.show()\n"
      ],
      "execution_count": null,
      "outputs": []
    }
  ]
}